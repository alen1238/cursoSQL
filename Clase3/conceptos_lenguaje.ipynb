{
 "cells": [
  {
   "cell_type": "markdown",
   "metadata": {},
   "source": [
    "# Conceptos del lenguaje"
   ]
  },
  {
   "cell_type": "markdown",
   "metadata": {},
   "source": [
    "## Sistemas Gestores de Bases de Datos (DBMS - Database Management Systems)"
   ]
  },
  {
   "cell_type": "markdown",
   "metadata": {},
   "source": [
    "Un **DBMS** es un software diseñado para administrar bases de datos. Proporciona herramientas para almacenar, recuperar, modificar y gestionar datos de manera segura y estructurada. Es el intermediario entre el usuario y la base de datos, asegurando que las operaciones realizadas sean eficientes y confiables"
   ]
  },
  {
   "cell_type": "markdown",
   "metadata": {},
   "source": [
    "### Funciones especiales"
   ]
  },
  {
   "cell_type": "markdown",
   "metadata": {},
   "source": [
    "1. **Almacenamiento de datos**:\n",
    "    - Administra la ubicación física de los datos en discos duros o servidores.\n",
    "    - Garantiza que los datos estén organizados y fácilmente accesibles.\n",
    "1. **Consulta de datos**: Proporciona un lenguaje como SQL para que los usuarios puedan consultar y manipular los datos.\n",
    "1. **Gestión de transacciones**: Asegura que las operaciones cumplan con los principios ACID (Atomicidad, Consistencia, Aislamiento, Durabilidad).\n",
    "1. **Seguridad**:\n",
    "    - Controla el acceso a los datos mediante privilegios y autenticación.\n",
    "    - Protege los datos contra accesos no autorizados o corrupción.\n",
    "1. **Integridad**: Garantiza que los datos sean correctos y consistentes mediante reglas y restricciones, como claves primarias y foráneas.\n",
    "1. **Mantenimiento de datos**: Permite realizar respaldos (backups) y recuperación en caso de fallos."
   ]
  },
  {
   "cell_type": "markdown",
   "metadata": {},
   "source": [
    "### Tipos de sistemas gestores de bases de datos"
   ]
  },
  {
   "cell_type": "markdown",
   "metadata": {},
   "source": [
    "1. **Relacional (RDBMS)**:\n",
    "    - Basados en el modelo de relaciones, organizan los datos en tablas (filas y columnas).\n",
    "    - Ejemplos: MySQL, PostgreSQL, SQL Server, Oracle.\n",
    "1. **NoSQL**:\n",
    "    - Diseñados para manejar grandes volúmenes de datos no estructurados.\n",
    "    - Ejemplos: MongoDB (documentos), Redis (clave-valor), Cassandra (columnas), Neo4j (gráficos).\n",
    "1. **Orientados a objetos**:\n",
    "    - Combina bases de datos con programación orientada a objetos.\n",
    "    - Ejemplo: Versant.\n",
    "1. **Jerárquicos**:\n",
    "    - Organizan los datos en una estructura tipo árbol.\n",
    "    - Ejemplo: IBM IMS.\n",
    "1. **Red**:\n",
    "    - Representa datos como gráficos donde múltiples nodos pueden estar conectados.\n",
    "    - Ejemplo: IDMS.\n"
   ]
  },
  {
   "cell_type": "markdown",
   "metadata": {},
   "source": [
    "## SQL - Lenguaje de consultas estructurado"
   ]
  },
  {
   "cell_type": "markdown",
   "metadata": {},
   "source": [
    "### ¿Qué es SQL y por qué es esencial?"
   ]
  },
  {
   "cell_type": "markdown",
   "metadata": {},
   "source": [
    "- **Definición**: SQL (Structured Query Language) es el lenguaje estándar utilizado para interactuar con bases de datos relacionales como MySQL, SQL Server, PostgreSQL y Oracle, entre otros.\n",
    "- Es la herramienta principal para gestionar datos, un recurso crítico en la era digital."
   ]
  },
  {
   "cell_type": "markdown",
   "metadata": {},
   "source": [
    "### Componentes principales de SQL"
   ]
  },
  {
   "cell_type": "markdown",
   "metadata": {},
   "source": [
    "SQL puede dividirse en diferentes subconjuntos según su propósito. Aquí te explico los más importantes:\n",
    "1. **DDL (Data Definition Language)**: Se utilizan para definir y gestionar los objetos que forman parte de una base de datos, como tablas, índices, vistas y esquemas. No manipulan los datos directamente, sino la estructura que los contiene.\n",
    "\n",
    "    **Características clave de DDL**\n",
    "    - Las operaciones de DDL no se pueden deshacer (excepto en sistemas que soporten transacciones DDL, como Oracle).\n",
    "    - Los cambios son permanentes y afectan directamente la estructura de la base de datos."
   ]
  },
  {
   "cell_type": "markdown",
   "metadata": {},
   "source": [
    "- `CREATE`: Crea nuevos objetos en la base de datos, como tablas o índices."
   ]
  },
  {
   "cell_type": "code",
   "execution_count": null,
   "metadata": {
    "vscode": {
     "languageId": "sql"
    }
   },
   "outputs": [],
   "source": [
    "-- Crear una tabla\n",
    "CREATE TABLE estudiantes (\n",
    "    id INT PRIMARY KEY,\n",
    "    nombre VARCHAR(50),\n",
    "    edad INT,\n",
    "    fecha_registro DATE\n",
    ");"
   ]
  },
  {
   "cell_type": "code",
   "execution_count": null,
   "metadata": {
    "vscode": {
     "languageId": "sql"
    }
   },
   "outputs": [],
   "source": [
    "-- Crear un índice\n",
    "CREATE INDEX idx_nombre ON estudiantes (nombre);"
   ]
  },
  {
   "cell_type": "markdown",
   "metadata": {},
   "source": [
    "- `ALTER`: Modifica estructuras ya existentes, como añadir columnas o cambiar tipos de datos."
   ]
  },
  {
   "cell_type": "code",
   "execution_count": null,
   "metadata": {
    "vscode": {
     "languageId": "sql"
    }
   },
   "outputs": [],
   "source": [
    "-- Añadir una columna\n",
    "ALTER TABLE estudiantes ADD COLUMN grado VARCHAR(20);"
   ]
  },
  {
   "cell_type": "code",
   "execution_count": null,
   "metadata": {
    "vscode": {
     "languageId": "sql"
    }
   },
   "outputs": [],
   "source": [
    "-- Modificar el tipo de una columna\n",
    "ALTER TABLE estudiantes MODIFY COLUMN edad SMALLINT;"
   ]
  },
  {
   "cell_type": "markdown",
   "metadata": {},
   "source": [
    "- `DROP`: Elimina objetos de la base de datos, como tablas o índices."
   ]
  },
  {
   "cell_type": "code",
   "execution_count": null,
   "metadata": {
    "vscode": {
     "languageId": "sql"
    }
   },
   "outputs": [],
   "source": [
    "-- Eliminar una tabla\n",
    "DROP TABLE estudiantes;"
   ]
  },
  {
   "cell_type": "code",
   "execution_count": null,
   "metadata": {
    "vscode": {
     "languageId": "sql"
    }
   },
   "outputs": [],
   "source": [
    "-- Eliminar un índice\n",
    "DROP INDEX idx_nombre ON estudiantes;"
   ]
  },
  {
   "cell_type": "markdown",
   "metadata": {},
   "source": [
    "- `TRUNCATE`: Vacía una tabla, eliminando todos los registros sin modificar su estructura."
   ]
  },
  {
   "cell_type": "code",
   "execution_count": null,
   "metadata": {
    "vscode": {
     "languageId": "sql"
    }
   },
   "outputs": [],
   "source": [
    "-- Vaciar una tabla:\n",
    "TRUNCATE TABLE estudiantes;"
   ]
  },
  {
   "cell_type": "markdown",
   "metadata": {},
   "source": [
    "- **Actividad - DDL**\n",
    "  - Crea una tabla `ESTUDIANTES` con las siguientes columnas:\n",
    "    - `id` (número entero, clave primaria).\n",
    "    - `nombre` (cadena de texto de hasta 50 caracteres).\n",
    "    - `edad` (número entero).\n",
    "    - `fecha_registro` (fecha).\n",
    "  - Realizar los siguientes cambios en la tabla:\n",
    "    - Agregar una columna `grado` (cadena de texto de hasta 20 caracteres).\n",
    "    - Cambiar el tipo de la columna `edad` de `INT` a `SMALLINT`."
   ]
  },
  {
   "cell_type": "markdown",
   "metadata": {},
   "source": [
    "2. **DML (Data Manipulation Language)**: Es utilizado para gestionar y manipular los datos dentro de las tablas de una base de datos. Permite insertar, actualizar, eliminar y consultar información. Estas operaciones no afectan la estructura de la tabla, sino únicamente los datos que contiene."
   ]
  },
  {
   "cell_type": "markdown",
   "metadata": {},
   "source": [
    "- `INSERT`: Agregar nuevos datos a una tabla."
   ]
  },
  {
   "cell_type": "code",
   "execution_count": null,
   "metadata": {
    "vscode": {
     "languageId": "sql"
    }
   },
   "outputs": [],
   "source": [
    "-- Añadir un estudiante a la tabla estudiantes.\n",
    "INSERT INTO estudiantes (id, nombre, edad, fecha_registro) \n",
    "VALUES (1, 'Juan', 20, '2025-03-25');"
   ]
  },
  {
   "cell_type": "markdown",
   "metadata": {},
   "source": [
    "- `UPDATE`: Modificar datos existentes en una tabla."
   ]
  },
  {
   "cell_type": "code",
   "execution_count": null,
   "metadata": {
    "vscode": {
     "languageId": "sql"
    }
   },
   "outputs": [],
   "source": [
    "-- Cambiar la edad de un estudiante con id 1.\n",
    "UPDATE estudiantes SET edad = 21 WHERE id = 1;"
   ]
  },
  {
   "cell_type": "markdown",
   "metadata": {},
   "source": [
    "- `DELETE`: Eliminar datos específicos de una tabla."
   ]
  },
  {
   "cell_type": "code",
   "execution_count": null,
   "metadata": {
    "vscode": {
     "languageId": "sql"
    }
   },
   "outputs": [],
   "source": [
    "-- Eliminar al estudiante con id 1.\n",
    "DELETE FROM estudiantes WHERE id = 1;"
   ]
  },
  {
   "cell_type": "markdown",
   "metadata": {},
   "source": [
    "- `SELECT`: Recuperar datos de una tabla."
   ]
  },
  {
   "cell_type": "code",
   "execution_count": null,
   "metadata": {
    "vscode": {
     "languageId": "sql"
    }
   },
   "outputs": [],
   "source": [
    "-- Consultar el nombre y edad de todos los estudiantes.\n",
    "SELECT nombre, edad FROM estudiantes;"
   ]
  },
  {
   "cell_type": "markdown",
   "metadata": {},
   "source": [
    "- **Consideraciones importantes**\n",
    "  - Siempre utiliza la cláusula `WHERE` en las instrucciones `UPDATE` y `DELETE` para evitar afectar todos los registros de la tabla por accidente.\n",
    "  - Para operaciones críticas, usa transacciones para garantizar que los cambios sean reversibles en caso de errores. Las transacciones suelen involucrar `COMMIT` y `ROLLBACK`.\n",
    "  - A diferencia de `DELETE`, `TRUNCATE` no puede usarse con condiciones (`WHERE`), pero es más rápido."
   ]
  },
  {
   "cell_type": "markdown",
   "metadata": {},
   "source": [
    "- **Actividad - DML**\n",
    "  - **Insertar registros**: Añade tres estudiantes con datos ficticios utilizando `INSERT`.\n",
    "  - **Actualizar registros**: Cambia la edad de uno de los estudiantes con `UPDATE`.\n",
    "  - **Eliminar registros**: Elimina un estudiante específico con `DELETE`.\n",
    "  - **Consultar datos**: Recupera la lista de estudiantes mayores de 18 años con `SELECT`.\n"
   ]
  },
  {
   "cell_type": "markdown",
   "metadata": {},
   "source": [
    "3. **DCL (Data Control Language)**: Se utiliza para controlar el acceso y los privilegios sobre los objetos de la base de datos. Permite garantizar la seguridad y privacidad de los datos, al administrar quién puede realizar operaciones específicas en la base de datos."
   ]
  },
  {
   "cell_type": "markdown",
   "metadata": {},
   "source": [
    "- `GRANT`: Asigna permisos a usuarios o roles."
   ]
  },
  {
   "cell_type": "code",
   "execution_count": null,
   "metadata": {
    "vscode": {
     "languageId": "sql"
    }
   },
   "outputs": [],
   "source": [
    "-- Otorgar permiso de `SELECT` en la tabla `estudiantes` al usuario `juan`.\n",
    "GRANT SELECT ON estudiantes TO juan;"
   ]
  },
  {
   "cell_type": "markdown",
   "metadata": {},
   "source": [
    "- `REVOKE`: Revoca permisos previamente otorgados a usuarios o roles."
   ]
  },
  {
   "cell_type": "code",
   "execution_count": null,
   "metadata": {
    "vscode": {
     "languageId": "sql"
    }
   },
   "outputs": [],
   "source": [
    "--  Quitar el permiso de `SELECT` en la tabla `estudiantes` al usuario `juan`.\n",
    "REVOKE SELECT ON estudiantes FROM juan;"
   ]
  },
  {
   "cell_type": "markdown",
   "metadata": {},
   "source": [
    "- **Tipos comunes de privilegios en DCL**\n",
    "  - `SELECT`: Permite leer datos de una tabla.\n",
    "  - `INSERT`: Permite agregar datos a una tabla.\n",
    "  - `UPDATE`: Permite modificar datos en una tabla.\n",
    "  - `DELETE`: Permite eliminar datos de una tabla.\n",
    "  - `ALL PRIVILEGES`: Otorga todos los privilegios al usuario sobre un objeto.\n",
    "\n",
    "- Seguridad y mejores prácticas con DCL\n",
    "  - **Principio de privilegio mínimo**: Asegúrate de otorgar únicamente los permisos necesarios para realizar una tarea.\n",
    "  - **Roles**: En lugar de asignar permisos a usuarios individuales, utiliza roles para gestionar el acceso de manera más eficiente.\n",
    "  - **Auditoría**: Registra quién tiene qué permisos y realiza revisiones periódicas para evitar problemas de seguridad."
   ]
  },
  {
   "cell_type": "markdown",
   "metadata": {},
   "source": [
    "4. **TCL (Transaction Control Language)**: Se utiliza para gestionar transacciones, que son bloques de instrucciones SQL que se ejecutan como una unidad. Una transacción garantiza que todas las operaciones incluidas se completen correctamente o, si ocurre un error, ninguna de ellas se aplique, asegurando la integridad de los datos."
   ]
  },
  {
   "cell_type": "markdown",
   "metadata": {},
   "source": [
    "- `COMMIT`: Confirma una transacción, aplicando de manera permanente los cambios realizados en la base de datos."
   ]
  },
  {
   "cell_type": "code",
   "execution_count": null,
   "metadata": {
    "vscode": {
     "languageId": "sql"
    }
   },
   "outputs": [],
   "source": [
    "BEGIN TRANSACTION;\n",
    "INSERT INTO estudiantes (id, nombre, edad) VALUES (4, 'Marta', 22);\n",
    "COMMIT;"
   ]
  },
  {
   "cell_type": "markdown",
   "metadata": {},
   "source": [
    "- `ROLLBACK`: Revierte una transacción, deshaciendo cualquier cambio que se haya realizado durante la transacción."
   ]
  },
  {
   "cell_type": "code",
   "execution_count": null,
   "metadata": {
    "vscode": {
     "languageId": "sql"
    }
   },
   "outputs": [],
   "source": [
    "BEGIN TRANSACTION;\n",
    "INSERT INTO estudiantes (id, nombre, edad) VALUES (5, 'Pedro', 20);\n",
    "ROLLBACK; -- Los datos de Pedro no se insertarán."
   ]
  },
  {
   "cell_type": "markdown",
   "metadata": {},
   "source": [
    "- `SAVEPOINT`: Define un punto intermedio en una transacción que puede usarse para realizar un rollback parcial."
   ]
  },
  {
   "cell_type": "code",
   "execution_count": null,
   "metadata": {
    "vscode": {
     "languageId": "sql"
    }
   },
   "outputs": [],
   "source": [
    "BEGIN TRANSACTION;\n",
    "INSERT INTO estudiantes (id, nombre, edad) VALUES (6, 'Ana', 25);\n",
    "SAVEPOINT punto1;\n",
    "UPDATE estudiantes SET edad = 26 WHERE id = 6;\n",
    "ROLLBACK TO punto1; -- Revertirá la actualización, pero mantendrá la inserción.\n",
    "COMMIT;"
   ]
  },
  {
   "cell_type": "markdown",
   "metadata": {},
   "source": [
    "- `SET TRANSACTION`: Configura propiedades para una transacción, como el nivel de aislamiento."
   ]
  },
  {
   "cell_type": "code",
   "execution_count": null,
   "metadata": {
    "vscode": {
     "languageId": "sql"
    }
   },
   "outputs": [],
   "source": [
    "SET TRANSACTION ISOLATION LEVEL SERIALIZABLE;\n",
    "BEGIN TRANSACTION;\n",
    "SELECT * FROM estudiantes;\n",
    "COMMIT;"
   ]
  },
  {
   "cell_type": "markdown",
   "metadata": {},
   "source": [
    "- **Características clave de TCL - ACID**\n",
    "  - **Atomicidad (_Atomicity_)**: Asegura que todas las operaciones dentro de una transacción se completen como un todo o no se realicen en absoluto. Si alguna parte falla, la transacción completa se revierte.\n",
    "  - **Consistencia (_Consistency_)**: Garantiza que la base de datos pase de un estado válido a otro estado válido después de completar la transacción. Esto significa que los datos siempre cumplen con las reglas definidas (restricciones, integridad referencial, etc.).\n",
    "  - **Aislamiento (_Isolation_)**: Protege las transacciones de interferencias entre sí, garantizando que sus operaciones no afecten a otras transacciones concurrentes. Esto asegura que los resultados finales sean consistentes como si cada transacción se hubiera ejecutado de forma individual.\n",
    "  - **Durabilidad (_Durability_)**: Garantiza que los cambios realizados por una transacción confirmada (COMMIT) se almacenen de forma permanente, incluso si ocurre un fallo en el sistema posteriormente."
   ]
  }
 ],
 "metadata": {
  "language_info": {
   "name": "python"
  }
 },
 "nbformat": 4,
 "nbformat_minor": 2
}
